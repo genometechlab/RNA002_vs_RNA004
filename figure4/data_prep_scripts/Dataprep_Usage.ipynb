{
 "cells": [
  {
   "cell_type": "markdown",
   "id": "017838c3-db66-4f36-8d3a-2eaece2d79de",
   "metadata": {},
   "source": [
    "# Usage script to process aligned, sorted and filtered bamfiles for \"valid reads\""
   ]
  },
  {
   "cell_type": "markdown",
   "id": "945f7c3c-7864-4f87-8a11-e366a770b7de",
   "metadata": {},
   "source": [
    "## Imports"
   ]
  },
  {
   "cell_type": "code",
   "execution_count": 1,
   "id": "39b16f63-eeff-428f-8de4-aa3552e90fe7",
   "metadata": {},
   "outputs": [],
   "source": [
    "import subprocess"
   ]
  },
  {
   "cell_type": "markdown",
   "id": "5dc22b86-d437-4e69-bcbf-5e7c836b0c53",
   "metadata": {},
   "source": [
    "## Step 1: Filter for \"Valid Reads\""
   ]
  },
  {
   "cell_type": "markdown",
   "id": "76f7465a-d7b6-4fc5-b11e-33499177ffb0",
   "metadata": {},
   "source": [
    "### Define path to input and output data"
   ]
  },
  {
   "cell_type": "code",
   "execution_count": 2,
   "id": "c14823de-4679-4240-8ce6-5ca04f0ac4a3",
   "metadata": {},
   "outputs": [],
   "source": [
    "input_bam = \"../../Exemplar_Data/bam/12_16_24_Mod_IVT_dorado.1.0.0_8_mods_threshold_0_emit_moves_aligned_sorted_filtered_downsampled_1000.bam\"\n",
    "reference = \"../../Exemplar_Data/synthethics_reference/combined_synthetic_IVT_reference.fasta\"\n",
    "outdir = \"../../Exemplar_Data/synthetics_outdir/\"\n",
    "prefix = \"12_16_24_Mod_IVT_dorado.1.0.0_8_mods_threshold_0_emit_moves_aligned_sorted_filtered_downsampled_1000_filtered_for_valid_reads\"\n"
   ]
  },
  {
   "cell_type": "markdown",
   "id": "1375e828-cef0-4160-9bb6-f1d0f9a87388",
   "metadata": {},
   "source": [
    "### Construct Command and Run"
   ]
  },
  {
   "cell_type": "code",
   "execution_count": 3,
   "id": "9316ac74-038a-40cf-84b2-f05544e70c42",
   "metadata": {},
   "outputs": [
    {
     "name": "stdout",
     "output_type": "stream",
     "text": [
      "Return code: 0\n",
      "STDOUT: Preview of collected Read IDs:\n",
      "db9d177e-8114-42bc-893d-8bd438f7d14c\n",
      "1f3e35a0-723c-4e0e-8d8b-69af1be5a1f3\n",
      "a5622f83-ba37-4422-905d-7b1c8916ba47\n",
      "96a1fcd9-b283-494c-9ceb-41f4d00fd22d\n",
      "cedd3868-7e9c-497f-a7a6-85d7ee3eea52\n",
      "bde53ae3-9e5b-4892-9ba9-38567231756b\n",
      "eac88ef6-3d83-44bf-97d2-6561e42d010d\n",
      "04d8aa98-bc83-44bb-a4b6-8211a73c4caa\n",
      "92995c19-0e11-4db1-aa5b-d2d276e2010e\n",
      "2d2562cc-487c-480f-a381-858122bbe509\n",
      "Total unique read IDs: 12000\n",
      "List of read IDs saved to: ../../Exemplar_Data/synthetics_outdir/12_16_24_Mod_IVT_dorado.1.0.0_8_mods_threshold_0_emit_moves_aligned_sorted_filtered_downsampled_1000_filtered_for_valid_reads_read_ids_list.txt\n",
      "Running samtools view to filter and index reads\n",
      "Running: samtools view -@ 1 -N ../../Exemplar_Data/synthetics_outdir/12_16_24_Mod_IVT_dorado.1.0.0_8_mods_threshold_0_emit_moves_aligned_sorted_filtered_downsampled_1000_filtered_for_valid_reads_read_ids_list.txt -b ../../Exemplar_Data/bam/12_16_24_Mod_IVT_dorado.1.0.0_8_mods_threshold_0_emit_moves_aligned_sorted_filtered_downsampled_1000.bam > ../../Exemplar_Data/synthetics_outdir/12_16_24_Mod_IVT_dorado.1.0.0_8_mods_threshold_0_emit_moves_aligned_sorted_filtered_downsampled_1000_filtered_for_valid_reads_bam_filtered_for_valid_reads.bam\n",
      "Running: samtools index -@ 1 ../../Exemplar_Data/synthetics_outdir/12_16_24_Mod_IVT_dorado.1.0.0_8_mods_threshold_0_emit_moves_aligned_sorted_filtered_downsampled_1000_filtered_for_valid_reads_bam_filtered_for_valid_reads.bam\n",
      "Process Completed\n",
      "\n",
      "STDERR: [W::hts_idx_load3] The index file is older than the data file: ../../Exemplar_Data/bam/12_16_24_Mod_IVT_dorado.1.0.0_8_mods_threshold_0_emit_moves_aligned_sorted_filtered_downsampled_1000.bam.bai\n",
      "\n",
      "Processing References:   0%|                                                                                                                                                                  | 0/12 [00:00<?, ?it/s]\n",
      "Processing References:  83%|███████████████████████████████████████████████████████████████████████████████████████████████████████████████████████████████▌                         | 10/12 [00:00<00:00, 99.01it/s]\n",
      "Processing References: 100%|█████████████████████████████████████████████████████████████████████████████████████████████████████████████████████████████████████████████████████████| 12/12 [00:00<00:00, 97.79it/s]\n",
      "\n"
     ]
    }
   ],
   "source": [
    "cmd = [\n",
    "    \"python\", \n",
    "    \"./Filter_For_Valid_Reads.py\",\n",
    "    \"-b\", input_bam,\n",
    "    \"-r\", reference,\n",
    "    \"-o\", outdir,\n",
    "    \"-p\", prefix\n",
    "]\n",
    "\n",
    "# Run without check=True to see the error\n",
    "result = subprocess.run(\n",
    "    cmd,\n",
    "    capture_output=True,\n",
    "    text=True,\n",
    "    check=False\n",
    ")\n",
    "\n",
    "print(f\"Return code: {result.returncode}\")\n",
    "print(f\"STDOUT: {result.stdout}\")\n",
    "print(f\"STDERR: {result.stderr}\")"
   ]
  },
  {
   "cell_type": "markdown",
   "id": "e08004ae-cf06-4484-aeb1-4e1b5dd4b783",
   "metadata": {},
   "source": [
    "## Create \"data structure\" to properly process the data for plotting"
   ]
  },
  {
   "cell_type": "markdown",
   "id": "01e203f5-ce36-4932-963f-4f52ec9bb6e4",
   "metadata": {},
   "source": [
    "### Define path to input and output data"
   ]
  },
  {
   "cell_type": "code",
   "execution_count": 7,
   "id": "30de0a3c-fb73-4213-bd37-d032cda6954d",
   "metadata": {},
   "outputs": [],
   "source": [
    "input_bam_1 = \"../../Exemplar_Data/synthetics_outdir/12_16_24_Mod_IVT_dorado.1.0.0_8_mods_threshold_0_emit_moves_aligned_sorted_filtered_downsampled_1000_filtered_for_valid_reads_bam_filtered_for_valid_reads.bam\"\n",
    "prefix_1 = \"../../12_16_24_Mod_IVT_dorado.1.0.0_8_mods_boxen_plot_datastructure\"\n",
    "tag_list = [\n",
    "    \"A+a.\", \"A+17596.\", \"A+69426.\",\n",
    "    \"G+19229.\",\n",
    "    \"C+m.\", \"C+19228.\",\n",
    "    \"T+17802.\", \"T+19227.\"\n",
    "]\n"
   ]
  },
  {
   "cell_type": "markdown",
   "id": "4e1766ba-9598-4570-83e5-f8be3a44de39",
   "metadata": {},
   "source": [
    "### Construct Command and Run"
   ]
  },
  {
   "cell_type": "code",
   "execution_count": 8,
   "id": "24bd2e82-f11b-4c5a-9f8f-948852c420f7",
   "metadata": {},
   "outputs": [
    {
     "name": "stdout",
     "output_type": "stream",
     "text": [
      "Return code: 0\n",
      "STDOUT: \n",
      "Processing BAM: ../../Exemplar_Data/synthetics_outdir/12_16_24_Mod_IVT_dorado.1.0.0_8_mods_threshold_0_emit_moves_aligned_sorted_filtered_downsampled_1000_filtered_for_valid_reads_bam_filtered_for_valid_reads.bam\n",
      "Looking for these modifications: ['A+a.,A+17596.,A+69426.,G+19229.,C+m.,C+19228.,T+17802.,T+19227.']\n",
      "Debug mode is: False\n",
      "\n",
      "Saving final dictionary to ../../Exemplar_Data/synthetics_outdir/../../12_16_24_Mod_IVT_dorado.1.0.0_8_mods_boxen_plot_datastructure.pkl (pickle)...\n",
      "Done.\n",
      "\n",
      "STDERR: \n",
      "0it [00:00, ?it/s]\n",
      "467it [00:00, 4664.28it/s]\n",
      "967it [00:00, 4860.66it/s]\n",
      "1463it [00:00, 4902.57it/s]\n",
      "1969it [00:00, 4961.81it/s]\n",
      "2466it [00:00, 4955.50it/s]\n",
      "2970it [00:00, 4983.27it/s]\n",
      "3469it [00:00, 4947.24it/s]\n",
      "3980it [00:00, 4997.63it/s]\n",
      "4480it [00:00, 4996.57it/s]\n",
      "4989it [00:01, 5022.85it/s]\n",
      "5495it [00:01, 5032.06it/s]\n",
      "5999it [00:01, 5023.44it/s]\n",
      "6502it [00:01, 4820.37it/s]\n",
      "6986it [00:01, 4695.52it/s]\n",
      "7458it [00:01, 4631.13it/s]\n",
      "7923it [00:01, 4611.24it/s]\n",
      "8385it [00:01, 4532.74it/s]\n",
      "8839it [00:01, 4523.01it/s]\n",
      "9292it [00:01, 4452.21it/s]\n",
      "9744it [00:02, 4470.77it/s]\n",
      "10199it [00:02, 4492.98it/s]\n",
      "10649it [00:02, 4491.35it/s]\n",
      "11099it [00:02, 4470.50it/s]\n",
      "11547it [00:02, 4471.12it/s]\n",
      "12000it [00:02, 4705.67it/s]\n",
      "\n"
     ]
    }
   ],
   "source": [
    "cmd = [\n",
    "    \"python\",\n",
    "    \"./Create_Data_Structure.py\",\n",
    "    \"-b\", input_bam_1,\n",
    "    \"-o\", outdir,\n",
    "    \"-p\", prefix_1,\n",
    "    \"-t\", \",\".join(tag_list)\n",
    "]\n",
    "\n",
    "result = subprocess.run(\n",
    "    cmd,\n",
    "    capture_output=True,\n",
    "    text=True,\n",
    "    check=False\n",
    ")\n",
    "\n",
    "print(f\"Return code: {result.returncode}\")\n",
    "print(f\"STDOUT: {result.stdout}\")\n",
    "print(f\"STDERR: {result.stderr}\")"
   ]
  },
  {
   "cell_type": "code",
   "execution_count": null,
   "id": "5fba2557-9a94-4ca6-8b51-d3eb8c6d4207",
   "metadata": {},
   "outputs": [],
   "source": []
  }
 ],
 "metadata": {
  "kernelspec": {
   "display_name": "Python 3 (ipykernel)",
   "language": "python",
   "name": "python3"
  },
  "language_info": {
   "codemirror_mode": {
    "name": "ipython",
    "version": 3
   },
   "file_extension": ".py",
   "mimetype": "text/x-python",
   "name": "python",
   "nbconvert_exporter": "python",
   "pygments_lexer": "ipython3",
   "version": "3.13.5"
  }
 },
 "nbformat": 4,
 "nbformat_minor": 5
}
