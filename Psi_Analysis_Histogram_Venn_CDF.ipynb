{
 "cells": [
  {
   "cell_type": "code",
   "execution_count": 1,
   "id": "1b86fc2a-c9c0-41a7-a77f-75525e27a224",
   "metadata": {},
   "outputs": [],
   "source": [
    "import matplotlib.pyplot as plt\n",
    "import matplotlib as mpl\n",
    "import numpy as np\n",
    "import pandas as pd\n",
    "import sys\n",
    "import time\n",
    "import pickle\n",
    "import os.path as osp\n",
    "import tqdm\n",
    "import pysam\n",
    "import seaborn as sns\n",
    "from matplotlib_venn import venn3, venn2"
   ]
  },
  {
   "cell_type": "markdown",
   "id": "3deef5db-f2c6-43a9-93ef-f386cb7883df",
   "metadata": {},
   "source": [
    "# U-to-C Mismatch Calculation\n",
    "## Pysamstats result filtering"
   ]
  },
  {
   "cell_type": "code",
   "execution_count": null,
   "id": "81005aee-73a6-46f2-a31e-38ab202cd499",
   "metadata": {},
   "outputs": [],
   "source": [
    "# T_C\n",
    "# A_G\n",
    "BASES = [\"A\", \"C\", \"G\", \"T\"]\n",
    "RNA_VER = 8\n",
    "FILE = f\"pysamstats_RNA00{RNA_VER}_csv.csv\"\n",
    "\n",
    "time_s = time.time()\n",
    "\n",
    "RNA_dict = []\n",
    "for i, chunk in enumerate(pd.read_csv(FILE, sep=\"\\t\", chunksize=100000)):\n",
    "    \n",
    "    valids = chunk[BASES].to_numpy().max(axis=1)>=20\n",
    "    bases_chunk = chunk[['chrom', 'pos', 'ref', *BASES]]\n",
    "    valid_chunk = bases_chunk[valids]\n",
    "    T_chunk = valid_chunk.loc[chunk.ref=='A']\n",
    "    c_error = (T_chunk['G']/T_chunk[BASES].sum(axis=1))>0.0 #0.4\n",
    "    T_chunk_c_read = T_chunk[c_error]\n",
    "   \n",
    "    \n",
    "    percentages = T_chunk_c_read[BASES].div(T_chunk_c_read[BASES].sum(axis=1), axis=0)\n",
    "    percentages.columns = [c+'_perc' for c in percentages.columns]\n",
    "    \n",
    "    df = pd.concat([T_chunk_c_read, percentages], axis=1)\n",
    "    T_chunk_c_read_list = df.to_dict('records')\n",
    "    RNA_dict.extend(T_chunk_c_read_list)\n",
    "\n",
    "time_e = time.time()\n",
    "print(time_e-time_s)"
   ]
  },
  {
   "cell_type": "code",
   "execution_count": null,
   "id": "7ced57e6-c2ea-4206-8237-8fd915c8cbb3",
   "metadata": {},
   "outputs": [],
   "source": [
    "## consider both T_C and A_G(rev)\n",
    "\n",
    "BASES = [\"A\", \"C\", \"G\", \"T\"]\n",
    "RNA_VER = 8\n",
    "FILE = f\"pysamstats_RNA00{RNA_VER}_csv.csv\"\n",
    "\n",
    "time_s = time.time()\n",
    "\n",
    "RNA_dict = []\n",
    "header = True\n",
    "mode = 'w'\n",
    "T2C = f\"./RNA00{RNA_VER}_table_T2C.csv\"\n",
    "A2G = f\"./RNA00{RNA_VER}_table_A2G.csv\"\n",
    "T2C_A2G = f\"./RNA00{RNA_VER}_table_T2C_A2G.csv\"\n",
    "chunksize = 10**6\n",
    "with pd.read_csv(FILE, sep=\"\\t\", chunksize=chunksize) as reader:\n",
    "    for i, chunk in enumerate(tqdm.tqdm(reader)):\n",
    "\n",
    "        valids = chunk[BASES].to_numpy().max(axis=1) >= 20\n",
    "        bases_chunk = chunk[['chrom', 'pos', 'ref', *BASES]]\n",
    "        valid_chunk = bases_chunk[valids]\n",
    "\n",
    "        # Case 1: Ref is T and Base is C\n",
    "        T_chunk = valid_chunk.loc[chunk.ref == 'T']\n",
    "        c_error = (T_chunk['C'] / T_chunk[BASES].sum(axis=1)) > 0 #0.20\n",
    "        T_chunk_c_read = T_chunk[c_error]\n",
    "\n",
    "        percentages_T2C = T_chunk_c_read[BASES].div(T_chunk_c_read[BASES].sum(axis=1), axis=0)\n",
    "        percentages_T2C.columns = [c + '_perc' for c in percentages_T2C.columns]\n",
    "\n",
    "        df_T2C = pd.concat([T_chunk_c_read, percentages_T2C], axis=1)\n",
    "        df_T2C.to_csv(T2C, header = header, mode=mode, sep='\\t', index=False)\n",
    "\n",
    "\n",
    "        # Case 2: Ref is A and Base is G (reverse)\n",
    "        A_chunk = valid_chunk.loc[chunk.ref == 'A']\n",
    "        g_error = (A_chunk['G'] / A_chunk[BASES].sum(axis=1)) > 0 #0.20\n",
    "        A_chunk_g_read = A_chunk[g_error]\n",
    "\n",
    "        percentages_A2G = A_chunk_g_read[BASES].div(A_chunk_g_read[BASES].sum(axis=1), axis=0)\n",
    "        percentages_A2G.columns = [c + '_perc' for c in percentages_A2G.columns]\n",
    "\n",
    "        df_A2G = pd.concat([A_chunk_g_read, percentages_A2G], axis=1)\n",
    "        df_A2G.to_csv(A2G, header = header, mode=mode, sep='\\t', index=False)\n",
    "\n",
    "        df_T2C_A2G = pd.concat([df_A2G, df_T2C], axis=0)\n",
    "        df_T2C_A2G.to_csv(T2C_A2G, header = header, mode=mode, sep='\\t', index=False)\n",
    "        header = False\n",
    "        mode = 'a'\n",
    "\n",
    "time_e = time.time()\n",
    "print(time_e - time_s)"
   ]
  },
  {
   "cell_type": "code",
   "execution_count": null,
   "id": "d737a13e-1377-4fa4-bf73-dd34c1204bd3",
   "metadata": {},
   "outputs": [],
   "source": [
    "with open(f\"./RNA002_dict_A2G.pkl\", \"rb\") as f:\n",
    "    RNA2A2G = pickle.load(f)\n",
    "\n",
    "\n",
    "with open(f\"./RNA008_dict_A2G.pkl\", \"rb\") as f:\n",
    "    RNA8A2G = pickle.load(f)\n",
    "    \n",
    "dict2 = pd.DataFrame(RNA2A2G)\n",
    "\n",
    "dict8 = pd.DataFrame(RNA8A2G)"
   ]
  },
  {
   "cell_type": "code",
   "execution_count": 30,
   "id": "3aeee937-9c11-4249-bc73-ccabf4bd8347",
   "metadata": {},
   "outputs": [],
   "source": [
    "RNA002_T2C_A2G = pd.read_csv('RNA002_table_T2C_A2G.csv', sep=\"\\t\")\n",
    "\n",
    "RNA008_T2C_A2G = pd.read_csv('RNA008_table_T2C_A2G.csv', sep=\"\\t\")\n",
    "\n",
    "dict2 = pd.DataFrame(RNA002_T2C_A2G)\n",
    "dict8 = pd.DataFrame(RNA008_T2C_A2G)"
   ]
  },
  {
   "cell_type": "code",
   "execution_count": 31,
   "id": "fcf0402c-ad79-469a-ab8b-1468c20df0fe",
   "metadata": {},
   "outputs": [
    {
     "name": "stdout",
     "output_type": "stream",
     "text": [
      "  chrom    pos ref   A  C   G  T    A_perc    C_perc    G_perc    T_perc\n",
      "0  chr1  14542   A  37  1   9  0  0.787234  0.021277  0.191489  0.000000\n",
      "1  chr1  14562   A  45  0   2  0  0.957447  0.000000  0.042553  0.000000\n",
      "2  chr1  14563   A  44  0   1  2  0.936170  0.000000  0.021277  0.042553\n",
      "3  chr1  14574   A  37  0  10  0  0.787234  0.000000  0.212766  0.000000\n",
      "4  chr1  14576   A  45  0   2  0  0.957447  0.000000  0.042553  0.000000\n"
     ]
    }
   ],
   "source": [
    "print(dict8.head())"
   ]
  },
  {
   "cell_type": "code",
   "execution_count": 32,
   "id": "f8a649ed-1125-4fea-a545-0250a7f62bba",
   "metadata": {},
   "outputs": [
    {
     "name": "stdout",
     "output_type": "stream",
     "text": [
      "<class 'pandas.core.frame.DataFrame'>\n",
      "RangeIndex: 2537472 entries, 0 to 2537471\n",
      "Data columns (total 20 columns):\n",
      " #   Column    Dtype  \n",
      "---  ------    -----  \n",
      " 0   chrom     object \n",
      " 1   pos       int64  \n",
      " 2   ref_2     object \n",
      " 3   A_2       int64  \n",
      " 4   C_2       int64  \n",
      " 5   G_2       int64  \n",
      " 6   T_2       int64  \n",
      " 7   A_perc_2  float64\n",
      " 8   C_perc_2  float64\n",
      " 9   G_perc_2  float64\n",
      " 10  T_perc_2  float64\n",
      " 11  ref_8     object \n",
      " 12  A_8       int64  \n",
      " 13  C_8       int64  \n",
      " 14  G_8       int64  \n",
      " 15  T_8       int64  \n",
      " 16  A_perc_8  float64\n",
      " 17  C_perc_8  float64\n",
      " 18  G_perc_8  float64\n",
      " 19  T_perc_8  float64\n",
      "dtypes: float64(8), int64(9), object(3)\n",
      "memory usage: 387.2+ MB\n"
     ]
    }
   ],
   "source": [
    "merged_df = pd.merge(dict2, dict8, on=['chrom', 'pos'], how='inner', suffixes=['_2', '_8']) \n",
    "merged_df.info()\n",
    "\n",
    "merged_df.to_csv('/work/Genometechlab/neda/dorado_0.8.1/merged_2_8_T2C_A2G.csv', sep=\"\\t\", index=False)"
   ]
  },
  {
   "cell_type": "markdown",
   "id": "3dd4d1d2-1fff-484a-b007-9870c6636dd2",
   "metadata": {},
   "source": [
    "## Clair3 variant filtering"
   ]
  },
  {
   "cell_type": "code",
   "execution_count": 33,
   "id": "472ff120-4965-4873-931d-104691aa4272",
   "metadata": {},
   "outputs": [
    {
     "name": "stdout",
     "output_type": "stream",
     "text": [
      "Columns in CSV: Index(['chrom', 'pos', 'ref_2', 'A_2', 'C_2', 'G_2', 'T_2', 'A_perc_2',\n",
      "       'C_perc_2', 'G_perc_2', 'T_perc_2', 'ref_8', 'A_8', 'C_8', 'G_8', 'T_8',\n",
      "       'A_perc_8', 'C_perc_8', 'G_perc_8', 'T_perc_8'],\n",
      "      dtype='object')\n",
      "Number of matching positions: 6871\n"
     ]
    }
   ],
   "source": [
    "def extract_positions_from_vcf(vcf_file):\n",
    "    positions = set()\n",
    "    vcf = pysam.VariantFile(vcf_file)\n",
    "    for record in vcf.fetch():\n",
    "        positions.add((record.chrom, record.pos))\n",
    "    return positions\n",
    "\n",
    "csv_file = '/work/Genometechlab/neda/dorado_0.8.1/merged_2_8_T2C_A2G.csv'\n",
    "csv_data = pd.read_csv(csv_file, sep=\"\\t\")\n",
    "\n",
    "csv_data.columns = csv_data.columns.str.strip()\n",
    "\n",
    "print(\"Columns in CSV:\", csv_data.columns)\n",
    "\n",
    "vcf_file = '/work/Genometechlab/neda/clair/RNA004_sup_vcf/merge_output.vcf.gz'\n",
    "vcf_positions = extract_positions_from_vcf(vcf_file)\n",
    "\n",
    "csv_positions = set(zip(csv_data['chrom'], csv_data['pos']))\n",
    "matching_positions = csv_positions.intersection(vcf_positions)\n",
    "num_matching_positions = len(matching_positions)\n",
    "\n",
    "cleaned_csv_data = csv_data[~csv_data[['chrom', 'pos']].apply(tuple, axis=1).isin(matching_positions)]\n",
    "\n",
    "cleaned_csv_file = '/work/Genometechlab/neda/dorado_0.8.1/merged_2_8_T2C_A2G_cleaned_vcf.csv'\n",
    "cleaned_csv_data.to_csv(cleaned_csv_file, index=False)\n",
    "\n",
    "print(f'Number of matching positions: {num_matching_positions}')"
   ]
  },
  {
   "cell_type": "markdown",
   "id": "7dcedd02-f568-47a9-afe2-6d73c08e58de",
   "metadata": {},
   "source": [
    "# 2D Histograms"
   ]
  },
  {
   "cell_type": "markdown",
   "id": "2045c260-5388-4397-9233-1d6b5e289d67",
   "metadata": {},
   "source": [
    "## U-to-C Mismatch"
   ]
  },
  {
   "cell_type": "code",
   "execution_count": 36,
   "id": "5f87f865-97e4-42cc-9a1f-fad8f6f8c8c6",
   "metadata": {},
   "outputs": [
    {
     "data": {
      "image/png": "[encoded data removed]",
      "text/plain": [
       "<Figure size 1080x432 with 3 Axes>"
      ]
     },
     "metadata": {
      "needs_background": "light"
     },
     "output_type": "display_data"
    }
   ],
   "source": [
    "df = pd.read_csv('/work/Genometechlab/neda/dorado_0.8.1/merged_2_8_T2C_A2G_cleaned_vcf.csv')\n",
    "\n",
    "df['mismatch_perc2'] = np.where(df['ref_2'] == 'T_2', df['C_perc_2'], df['G_perc_2'])\n",
    "df['mismatch_perc8'] = np.where(df['ref_8'] == 'T_8', df['C_perc_8'], df['G_perc_8'])\n",
    "\n",
    "fig, axes = plt.subplots(ncols=2, nrows=1)\n",
    "fig.set_size_inches(15,6)\n",
    "\n",
    "axes= axes.flatten()\n",
    "def set_spines_visibility(ax, top=False, right=False, bottom=True, left=True):\n",
    "    ax.spines['top'].set_visible(top)\n",
    "    ax.spines['right'].set_visible(right)\n",
    "    ax.spines['bottom'].set_visible(bottom)\n",
    "    ax.spines['left'].set_visible(left)\n",
    "\n",
    "bandwith_1d = .025\n",
    "axes[0].set_xlabel('Percentage of C')\n",
    "axes[0].set_ylabel('Number(Log)')\n",
    "axes[0].hist(df['mismatch_perc2'], bins=np.arange(0,1+bandwith_1d,bandwith_1d), alpha=0.5, label='RNA002', color='tab:blue')\n",
    "axes[0].hist(df['mismatch_perc8'], bins=np.arange(0,1+bandwith_1d,bandwith_1d), alpha=0.5, label='RNA004', color='tab:orange')\n",
    "axes[0].set_yscale('log')\n",
    "axes[0].legend()\n",
    "set_spines_visibility(axes[0])\n",
    "\n",
    "cmap = mpl.cm.viridis\n",
    "cmap.set_bad('black',1.)\n",
    "bandwith_2d = .05\n",
    "h = axes[1].hist2d(df['mismatch_perc2'], df['mismatch_perc8'], bins=np.arange(0,1+bandwith_2d,bandwith_2d), norm=mpl.colors.LogNorm(), cmap=cmap)\n",
    "axes[1].plot((0.0,1),(0.0,1), color='red', alpha=1)\n",
    "axes[1].set_xlabel('RNA002 Percentage of C')\n",
    "axes[1].set_ylabel('RNA004 Percentage of C')\n",
    "axes[1].set_title('Density (Log)')\n",
    "fig.colorbar(h[3], ax=axes[1])\n",
    "axes[1].set_xlim(0.0,1)\n",
    "axes[1].set_ylim(0.0,1)\n",
    "axes[1].set_aspect('equal')\n",
    "for spine in axes[1].spines.values():\n",
    "    spine.set_color('red')\n",
    "\n",
    "fig.tight_layout() \n",
    "plt.show()"
   ]
  },
  {
   "cell_type": "code",
   "execution_count": 10,
   "id": "2e2bb6c8-7465-4ff9-be41-75b975211e9c",
   "metadata": {},
   "outputs": [
    {
     "data": {
      "image/png": "[encoded data removed]",
      "text/plain": [
       "<Figure size 504x432 with 2 Axes>"
      ]
     },
     "metadata": {
      "needs_background": "light"
     },
     "output_type": "display_data"
    }
   ],
   "source": [
    "df = pd.read_csv('/work/Genometechlab/neda/dorado_0.8.1/merged_2_8_T2C_A2G_cleaned_vcf.csv')\n",
    "\n",
    "df['mismatch_perc2'] = np.where(df['ref_2'] == 'T_2', df['C_perc_2'], df['G_perc_2'])\n",
    "df['mismatch_perc8'] = np.where(df['ref_8'] == 'T_8', df['C_perc_8'], df['G_perc_8'])\n",
    "\n",
    "fig, ax = plt.subplots()\n",
    "fig.set_size_inches(7, 6)\n",
    "\n",
    "cmap = mpl.cm.viridis\n",
    "cmap.set_bad('white', 1.0)\n",
    "\n",
    "bandwith_2d = 0.05\n",
    "\n",
    "h = ax.hist2d(df['mismatch_perc2'], df['mismatch_perc8'], bins=np.arange(0, 1 + bandwith_2d, bandwith_2d), norm=mpl.colors.LogNorm(), cmap=cmap)\n",
    "\n",
    "ax.plot((0.0, 1), (0.0, 1), color='red', alpha=1)\n",
    "\n",
    "ax.set_xlabel('RNA002 U-to-C Mismatch Ratio', fontsize=15)\n",
    "ax.set_ylabel('RNA004 U-to-C Mismatch Ratio', fontsize=15)\n",
    "ax.set_title('RNA002 vs RNA004 U-to-C Mismatch Ratio', fontsize=15)\n",
    "\n",
    "fig.colorbar(h[3], ax=ax)\n",
    "\n",
    "ax.set_xlim(0.0, 1)\n",
    "ax.set_ylim(0.0, 1)\n",
    "ax.set_aspect('equal')\n",
    "\n",
    "for spine in ax.spines.values():\n",
    "    spine.set_color('black')\n",
    "\n",
    "fig.tight_layout()\n",
    "plt.show()"
   ]
  },
  {
   "cell_type": "markdown",
   "id": "8dd0752c-e02f-4b89-a121-da68f94a41f1",
   "metadata": {},
   "source": [
    "## Delta for U-to-C"
   ]
  },
  {
   "cell_type": "code",
   "execution_count": 2,
   "id": "57bc382c-a565-4520-aeed-c4432cce834d",
   "metadata": {},
   "outputs": [],
   "source": [
    "df = pd.read_csv('/work/Genometechlab/neda/dorado_0.8.1/merged_2_8_T2C_A2G_cleaned_vcf.csv')\n",
    "\n",
    "df['mismatch_perc2'] = np.where(df['ref_2'] == 'T_2', df['C_perc_2'], df['G_perc_2'])\n",
    "df['mismatch_perc8'] = np.where(df['ref_8'] == 'T_8', df['C_perc_8'], df['G_perc_8'])"
   ]
  },
  {
   "cell_type": "code",
   "execution_count": 5,
   "id": "128d1a9c-11cb-40d2-8264-ebd6c980a459",
   "metadata": {},
   "outputs": [
    {
     "name": "stdout",
     "output_type": "stream",
     "text": [
      "For 161796 sites, RNA002 was 5% higher in U-to-C mismatch.\n",
      "For 5216 sites, RNA004 was 5% higher in U-to-C mismatch.\n",
      "For 2363589 sites, the two chemistries were within 5% of each other.\n"
     ]
    }
   ],
   "source": [
    "# delta\n",
    "df['delta'] = np.abs(df['mismatch_perc2'] - df['mismatch_perc8'])\n",
    "\n",
    "rna002_higher = (df['mismatch_perc2'] - df['mismatch_perc8'] >= 0.05).sum()\n",
    "rna004_higher = (df['mismatch_perc8'] - df['mismatch_perc2'] >= 0.05).sum()\n",
    "within_threshold = (df['delta'] < 0.05).sum()\n",
    "\n",
    "print(f\"For {rna002_higher} sites, RNA002 was 5% higher in U-to-C mismatch.\")\n",
    "print(f\"For {rna004_higher} sites, RNA004 was 5% higher in U-to-C mismatch.\")\n",
    "print(f\"For {within_threshold} sites, the two chemistries were within 5% of each other.\")"
   ]
  },
  {
   "cell_type": "markdown",
   "id": "00534f61-dca4-4303-aac3-7f7a415991b6",
   "metadata": {},
   "source": [
    "For 161,796 sites, RNA002 showed a ≥5% higher U-to-C mismatch than RNA004.\n",
    "For 5,216 sites, RNA004 showed a ≥5% higher U-to-C mismatch than RNA002.\n",
    "For 2,363,589 sites, the mismatch rates between the two chemistries were within 5% of each other."
   ]
  },
  {
   "cell_type": "code",
   "execution_count": 9,
   "id": "a0b03386-13b0-4ff6-ae9f-a43cdbddfa26",
   "metadata": {},
   "outputs": [
    {
     "data": {
      "image/png": "[encoded data removed]",
      "text/plain": [
       "<Figure size 576x432 with 1 Axes>"
      ]
     },
     "metadata": {
      "needs_background": "light"
     },
     "output_type": "display_data"
    }
   ],
   "source": [
    "df['delta'] = df['mismatch_perc2'] - df['mismatch_perc8']\n",
    "df['abs_delta'] = np.abs(df['delta'])\n",
    "\n",
    "rna002_higher = (df['delta'] >= 0.05).sum()\n",
    "rna004_higher = (df['delta'] <= -0.05).sum()\n",
    "within_5_percent = (df['abs_delta'] < 0.05).sum()\n",
    "\n",
    "pos_delta = df.loc[df['delta'] >= 0, 'delta']\n",
    "neg_delta = -df.loc[df['delta'] < 0, 'delta']\n",
    "\n",
    "sorted_pos = np.sort(pos_delta)\n",
    "ccdf_pos = 1.0 - np.arange(1, len(sorted_pos)+1) / len(sorted_pos)\n",
    "\n",
    "sorted_neg = np.sort(neg_delta)\n",
    "ccdf_neg = 1.0 - np.arange(1, len(sorted_neg)+1) / len(sorted_neg)\n",
    "\n",
    "x_pos = sorted_pos * 100\n",
    "x_neg = sorted_neg * 100\n",
    "\n",
    "# P(Δ ≥ x): proportion (probability) of sites where the absolute mismatch delta is greater than or equal to x\n",
    "# x=|mismatch_perc2−mismatch_perc8|×100\n",
    "\n",
    "plt.figure(figsize=(8, 6))\n",
    "plt.plot(x_pos, ccdf_pos, label='RNA002 > RNA004', color='blue')\n",
    "plt.plot(x_neg, ccdf_neg, label='RNA004 > RNA002', color='orange')\n",
    "plt.axvline(5, color='red', linestyle='--', label='5% Threshold')\n",
    "\n",
    "plt.text(60, 0.6, f'RNA002 ≥ 5%: {rna002_higher:,}', color='blue', fontsize=11)\n",
    "plt.text(60, 0.5, f'RNA004 ≥ 5%: {rna004_higher:,}', color='orange', fontsize=11)\n",
    "plt.text(60, 0.4, f'|Δ| < 5%: {within_5_percent:,}', color='green', fontsize=11)\n",
    "\n",
    "plt.xlabel('U-to-C Mismatch Delta (%)', fontsize=13)\n",
    "plt.ylabel('P(Δ ≥ x)', fontsize=13)\n",
    "plt.title('Complementary CDF of RNA002 - RNA004 U-to-C Mismatch Delta', fontsize=14)\n",
    "plt.legend()\n",
    "plt.tight_layout()\n",
    "plt.savefig('CDF_U-to-C_mismatch.pdf')\n",
    "plt.show()"
   ]
  },
  {
   "cell_type": "markdown",
   "id": "36e82cba-7f58-43da-b49b-45b712df481b",
   "metadata": {},
   "source": [
    "# Dorado vs U-to-C mismatch"
   ]
  },
  {
   "cell_type": "code",
   "execution_count": 4,
   "id": "7b5c08ce-2555-4dbe-9cbf-500acf8a2766",
   "metadata": {},
   "outputs": [
    {
     "name": "stdout",
     "output_type": "stream",
     "text": [
      "   chrom  start_position  end_position  modified_base_code  score strand  \\\n",
      "14  chr1           14420         14421               17802     39      -   \n",
      "15  chr1           14424         14425               17802     44      -   \n",
      "16  chr1           14446         14447               17802     43      -   \n",
      "18  chr1           14455         14456               17802     44      -   \n",
      "19  chr1           14456         14457               17802     39      -   \n",
      "\n",
      "    start_position_compat  end_position_compat    color  Nvalid_cov  \\\n",
      "14                  14420                14421  255,0,0          39   \n",
      "15                  14424                14425  255,0,0          44   \n",
      "16                  14446                14447  255,0,0          43   \n",
      "18                  14455                14456  255,0,0          44   \n",
      "19                  14456                14457  255,0,0          39   \n",
      "\n",
      "    fraction_modified  Nmod  Ncanonical  Nother_mod  Ndelete  Nfail  Ndiff  \\\n",
      "14               5.13     2          37           0        1      6      0   \n",
      "15               4.55     2          42           0        0      2      0   \n",
      "16               4.65     2          41           0        1      3      0   \n",
      "18               2.27     1          43           0        0      1      2   \n",
      "19               5.13     2          37           0        0      8      0   \n",
      "\n",
      "    Nnocall  \n",
      "14        0  \n",
      "15        0  \n",
      "16        0  \n",
      "18        0  \n",
      "19        0  \n"
     ]
    },
    {
     "data": {
      "text/plain": [
       "3625185"
      ]
     },
     "execution_count": 4,
     "metadata": {},
     "output_type": "execute_result"
    }
   ],
   "source": [
    "df = pd.read_csv('/work/Genometechlab/neda/dorado_0.8.1/stuart_07_27_23_RNA004_GM12878_polyA_RNA.dorado_0.8.1_sup.moves.psi.GRCh38.modkit.tsv', sep='\\t')\n",
    "\n",
    "filtered_df = df[(df['fraction_modified'] > 0) & (df['score'] >= 20)]\n",
    "\n",
    "filtered_df.to_csv('/work/Genometechlab/neda/dorado_0.8.1/stuart_07_27_23_RNA004_GM12878_polyA_RNA.dorado_0.8.1_sup.moves.psi.GRCh38.modkit_score_20.tsv', sep='\\t', index=False)\n",
    "print(filtered_df.head())\n",
    "\n",
    "len(filtered_df)"
   ]
  },
  {
   "cell_type": "code",
   "execution_count": 17,
   "id": "9760a892-2bc4-480f-b56f-35d2397195ef",
   "metadata": {},
   "outputs": [
    {
     "name": "stdout",
     "output_type": "stream",
     "text": [
      "  chrom    pos ref   A  C  G  T    A_perc    C_perc    G_perc    T_perc\n",
      "0  chr1  14447   A  69  0  1  2  0.958333  0.000000  0.013889  0.027778\n",
      "1  chr1  14448   A  85  0  1  0  0.988372  0.000000  0.011628  0.000000\n",
      "2  chr1  14456   A  64  9  2  3  0.820513  0.115385  0.025641  0.038462\n",
      "3  chr1  14459   A  79  0  2  1  0.963415  0.000000  0.024390  0.012195\n",
      "4  chr1  14483   A  83  0  1  2  0.965116  0.000000  0.011628  0.023256\n"
     ]
    },
    {
     "data": {
      "text/plain": [
       "6625920"
      ]
     },
     "execution_count": 17,
     "metadata": {},
     "output_type": "execute_result"
    }
   ],
   "source": [
    "pysamstats_df = pd.read_csv('/work/Genometechlab/neda/RNA002_table_T2C_A2G.csv', sep=\"\\t\")\n",
    "print(pysamstats_df.head())\n",
    "len(pysamstats_df)\n",
    "\n",
    "# RNA008 (4)\n",
    "# 3528654\n",
    "\n",
    "# RNA002\n",
    "# 6625920"
   ]
  },
  {
   "cell_type": "code",
   "execution_count": 6,
   "id": "b72ab641-1224-4c25-987a-4bc47bfdc808",
   "metadata": {},
   "outputs": [
    {
     "name": "stdout",
     "output_type": "stream",
     "text": [
      "  chrom  start_position  end_position  modified_base_code  score strand  \\\n",
      "0  chr1           14541         14542               17802     32      -   \n",
      "1  chr1           14575         14576               17802     42      -   \n",
      "2  chr1           14606         14607               17802     34      -   \n",
      "3  chr1           14779         14780               17802     28      -   \n",
      "4  chr1           14780         14781               17802     25      -   \n",
      "\n",
      "   start_position_compat  end_position_compat    color  Nvalid_cov  ...  \\\n",
      "0                  14541                14542  255,0,0          32  ...   \n",
      "1                  14575                14576  255,0,0          42  ...   \n",
      "2                  14606                14607  255,0,0          34  ...   \n",
      "3                  14779                14780  255,0,0          28  ...   \n",
      "4                  14780                14781  255,0,0          25  ...   \n",
      "\n",
      "     pos  ref   A  C  G  T    A_perc    C_perc    G_perc T_perc  \n",
      "0  14542    A  37  1  9  0  0.787234  0.021277  0.191489    0.0  \n",
      "1  14576    A  45  0  2  0  0.957447  0.000000  0.042553    0.0  \n",
      "2  14607    A  43  0  1  0  0.977273  0.000000  0.022727    0.0  \n",
      "3  14780    A  43  0  1  0  0.977273  0.000000  0.022727    0.0  \n",
      "4  14781    A  40  1  3  0  0.909091  0.022727  0.068182    0.0  \n",
      "\n",
      "[5 rows x 28 columns]\n"
     ]
    },
    {
     "data": {
      "text/plain": [
       "1512369"
      ]
     },
     "execution_count": 6,
     "metadata": {},
     "output_type": "execute_result"
    }
   ],
   "source": [
    "# intersecting modkit and pysamstats\n",
    "\n",
    "modkit_df = pd.read_csv('/work/Genometechlab/neda/dorado_0.8.1/stuart_07_27_23_RNA004_GM12878_polyA_RNA.dorado_0.8.1_sup.moves.psi.GRCh38.modkit_score_20.tsv', sep='\\t')\n",
    "\n",
    "pysamstats_df = pd.read_csv('/work/Genometechlab/neda/RNA008_table_T2C_A2G.csv', sep=\"\\t\")\n",
    "\n",
    "# intersection based on the 'end_position' in modkit and 'pos' in pysamstats\n",
    "intersection_df = pd.merge(modkit_df, pysamstats_df, left_on=['chrom','end_position'], right_on=['chrom','pos'])\n",
    "\n",
    "intersection_df.to_csv('/work/Genometechlab/neda/dorado_0.8.1/modkit_stu_pysamstats_RNA8_C_G.csv', sep='\\t', index=False)\n",
    "\n",
    "print(intersection_df.head())\n",
    "\n",
    "len(intersection_df)\n",
    "\n",
    "# RNA008\n",
    "# 1486387\n",
    "# 1512369 (stu)\n",
    "\n",
    "\n",
    "# RNA002\n",
    "# 2240365\n",
    "# 2286877 (stu)"
   ]
  },
  {
   "cell_type": "markdown",
   "id": "54c3b90a-1067-48d6-9c7b-5e9c2fce3527",
   "metadata": {},
   "source": [
    "### variant filtering"
   ]
  },
  {
   "cell_type": "code",
   "execution_count": 8,
   "id": "21497f22-c6ad-4048-946d-e1818f91b336",
   "metadata": {},
   "outputs": [
    {
     "name": "stdout",
     "output_type": "stream",
     "text": [
      "Columns in CSV: Index(['chrom', 'start_position', 'end_position', 'modified_base_code',\n",
      "       'score', 'strand', 'start_position_compat', 'end_position_compat',\n",
      "       'color', 'Nvalid_cov', 'fraction_modified', 'Nmod', 'Ncanonical',\n",
      "       'Nother_mod', 'Ndelete', 'Nfail', 'Ndiff', 'Nnocall', 'pos', 'ref', 'A',\n",
      "       'C', 'G', 'T', 'A_perc', 'C_perc', 'G_perc', 'T_perc'],\n",
      "      dtype='object')\n",
      "Number of matching positions: 1227\n",
      "  chrom  start_position  end_position  modified_base_code  score strand  \\\n",
      "0  chr1           14541         14542               17802     32      -   \n",
      "1  chr1           14575         14576               17802     42      -   \n",
      "2  chr1           14606         14607               17802     34      -   \n",
      "3  chr1           14779         14780               17802     28      -   \n",
      "4  chr1           14780         14781               17802     25      -   \n",
      "\n",
      "   start_position_compat  end_position_compat    color  Nvalid_cov  ...  \\\n",
      "0                  14541                14542  255,0,0          32  ...   \n",
      "1                  14575                14576  255,0,0          42  ...   \n",
      "2                  14606                14607  255,0,0          34  ...   \n",
      "3                  14779                14780  255,0,0          28  ...   \n",
      "4                  14780                14781  255,0,0          25  ...   \n",
      "\n",
      "     pos  ref   A  C  G  T    A_perc    C_perc    G_perc T_perc  \n",
      "0  14542    A  37  1  9  0  0.787234  0.021277  0.191489    0.0  \n",
      "1  14576    A  45  0  2  0  0.957447  0.000000  0.042553    0.0  \n",
      "2  14607    A  43  0  1  0  0.977273  0.000000  0.022727    0.0  \n",
      "3  14780    A  43  0  1  0  0.977273  0.000000  0.022727    0.0  \n",
      "4  14781    A  40  1  3  0  0.909091  0.022727  0.068182    0.0  \n",
      "\n",
      "[5 rows x 28 columns]\n"
     ]
    }
   ],
   "source": [
    "#Excluding variants from the intersection of modkit and pysamsats\n",
    "\n",
    "def extract_positions_from_vcf(vcf_file):\n",
    "    positions = set()\n",
    "    vcf = pysam.VariantFile(vcf_file)\n",
    "    for record in vcf.fetch():\n",
    "        positions.add((record.chrom, record.pos))\n",
    "    return positions\n",
    "\n",
    "csv_file = '/work/Genometechlab/neda/dorado_0.8.1/modkit_stu_pysamstats_RNA8_C_G.csv'\n",
    "csv_data = pd.read_csv(csv_file, sep=\"\\t\")\n",
    "\n",
    "\n",
    "csv_data.columns = csv_data.columns.str.strip()\n",
    "\n",
    "print(\"Columns in CSV:\", csv_data.columns)\n",
    "\n",
    "vcf_file = '/work/Genometechlab/neda/clair/RNA004_sup_vcf/merge_output.vcf.gz'\n",
    "vcf_positions = extract_positions_from_vcf(vcf_file)\n",
    "\n",
    "# Find matching positions in the CSV file\n",
    "csv_positions = set(zip(csv_data['chrom'], csv_data['pos']))\n",
    "matching_positions = csv_positions.intersection(vcf_positions)\n",
    "num_matching_positions = len(matching_positions)\n",
    "\n",
    "# Remove matching positions from the CSV data\n",
    "cleaned_csv_data = csv_data[~csv_data[['chrom', 'pos']].apply(tuple, axis=1).isin(matching_positions)]\n",
    "\n",
    "cleaned_csv_file = '/work/Genometechlab/neda/dorado_0.8.1/modkit_stu_pysamstats_RNA8_C_G_vcf_excluded.csv'\n",
    "cleaned_csv_data.to_csv(cleaned_csv_file, index=False)\n",
    "\n",
    "print(f'Number of matching positions: {num_matching_positions}')\n",
    "\n",
    "print(cleaned_csv_data.head())\n",
    "\n",
    "# RNA8\n",
    "# 1197\n",
    "# 1227 (stu)\n",
    "\n",
    "# RNA2\n",
    "# 1296\n",
    "# 1326 (stu)"
   ]
  },
  {
   "cell_type": "code",
   "execution_count": 13,
   "id": "f921f9d0-8743-4277-b183-3dc0e4c3213d",
   "metadata": {},
   "outputs": [
    {
     "name": "stderr",
     "output_type": "stream",
     "text": [
      "<ipython-input-13-7439ec8a4d49>:1: ParserWarning: Falling back to the 'python' engine because the 'c' engine does not support regex separators (separators > 1 char and different from '\\s+' are interpreted as regex); you can avoid this warning by specifying engine='python'.\n",
      "  df = pd.read_csv('/work/Genometechlab/neda/dorado_0.8.1/modkit_stu_pysamstats_RNA8_C_G_vcf_excluded.csv', sep='\\,')\n"
     ]
    },
    {
     "data": {
      "image/png": "[encoded data removed]",
      "text/plain": [
       "<Figure size 504x432 with 2 Axes>"
      ]
     },
     "metadata": {
      "needs_background": "light"
     },
     "output_type": "display_data"
    }
   ],
   "source": [
    "df = pd.read_csv('/work/Genometechlab/neda/dorado_0.8.1/modkit_stu_pysamstats_RNA8_C_G_vcf_excluded.csv', sep='\\,')\n",
    "\n",
    "df['mismatch_perc'] = np.where(df['ref'] == 'T', df['C_perc'], df['G_perc'])\n",
    "\n",
    "df['mismatch_perc']*=100\n",
    "\n",
    "fig, ax = plt.subplots()\n",
    "fig.set_size_inches(7, 6)\n",
    "\n",
    "cmap = mpl.cm.viridis\n",
    "cmap.set_bad('white', 1.)\n",
    "\n",
    "bandwidth_2d = 5\n",
    "bins = np.arange(0, 100 + bandwidth_2d, bandwidth_2d)\n",
    "\n",
    "hist = ax.hist2d(df['fraction_modified'], df['mismatch_perc'], bins=[bins, bins], norm=mpl.colors.LogNorm(), cmap=cmap)\n",
    "\n",
    "ax.plot((0.0, 1), (0.0, 1), color='red', alpha=1)\n",
    "ax.set_xlabel('Dorado Fraction Modified', fontsize=15)\n",
    "ax.set_ylabel('RNA004 U-to-C Mismatch Ratio', fontsize=15)\n",
    "ax.set_title('Dorado vs RNA004 U-to-C Mismatch Ratio', fontsize=15)\n",
    "fig.colorbar(h[3], ax=ax)\n",
    "ax.set_xlim(0.0, 100)\n",
    "ax.set_ylim(0.0, 100)\n",
    "ax.set_aspect('equal')\n",
    "    \n",
    "\n",
    "ax.tick_params(axis='both')\n",
    "for spine in ax.spines.values():\n",
    "    spine.set_edgecolor('black')\n",
    "    \n",
    "fig.tight_layout()\n",
    "plt.show()"
   ]
  },
  {
   "cell_type": "code",
   "execution_count": 15,
   "id": "9e1beee8-e16e-4665-841c-ff233999a86c",
   "metadata": {},
   "outputs": [
    {
     "name": "stderr",
     "output_type": "stream",
     "text": [
      "<ipython-input-15-453802784248>:1: ParserWarning: Falling back to the 'python' engine because the 'c' engine does not support regex separators (separators > 1 char and different from '\\s+' are interpreted as regex); you can avoid this warning by specifying engine='python'.\n",
      "  df = pd.read_csv('/work/Genometechlab/neda/dorado_0.8.1/modkit_stu_pysamstats_RNA2_C_G_vcf_excluded.csv', sep='\\,')\n"
     ]
    },
    {
     "data": {
      "image/png": "[encoded data removed]",
      "text/plain": [
       "<Figure size 504x432 with 2 Axes>"
      ]
     },
     "metadata": {
      "needs_background": "light"
     },
     "output_type": "display_data"
    }
   ],
   "source": [
    "df = pd.read_csv('/work/Genometechlab/neda/dorado_0.8.1/modkit_stu_pysamstats_RNA2_C_G_vcf_excluded.csv', sep='\\,')\n",
    "\n",
    "df['mismatch_perc'] = np.where(df['ref'] == 'T', df['C_perc'], df['G_perc'])\n",
    "\n",
    "df['mismatch_perc']*=100\n",
    "\n",
    "fig, ax = plt.subplots()\n",
    "fig.set_size_inches(7, 6)\n",
    "\n",
    "cmap = mpl.cm.viridis\n",
    "cmap.set_bad('white', 1.)\n",
    "\n",
    "bandwidth_2d = 5\n",
    "bins = np.arange(0, 100 + bandwidth_2d, bandwidth_2d)\n",
    "\n",
    "hist = ax.hist2d(df['fraction_modified'], df['mismatch_perc'], bins=[bins, bins], norm=mpl.colors.LogNorm(), cmap=cmap)\n",
    "\n",
    "ax.plot((0.0, 1), (0.0, 1), color='red', alpha=1)\n",
    "ax.set_xlabel('Dorado Fraction Modified', fontsize=15)\n",
    "ax.set_ylabel('RNA002 U-to-C Mismatch Ratio', fontsize=15)\n",
    "ax.set_title('Dorado vs RNA002 U-to-C Mismatch Ratio', fontsize=15)\n",
    "fig.colorbar(h[3], ax=ax)\n",
    "ax.set_xlim(0.0, 100)\n",
    "ax.set_ylim(0.0, 100)\n",
    "ax.set_aspect('equal')\n",
    "    \n",
    "\n",
    "ax.tick_params(axis='both')\n",
    "for spine in ax.spines.values():\n",
    "    spine.set_edgecolor('black')\n",
    "    \n",
    "fig.tight_layout()\n",
    "plt.show()"
   ]
  },
  {
   "cell_type": "markdown",
   "id": "d9552a95-b92b-4ff0-9d4f-5880881566da",
   "metadata": {},
   "source": [
    "# Venn diagram"
   ]
  },
  {
   "cell_type": "markdown",
   "id": "8ca95020-0bf5-493b-aecb-73410e02c7d7",
   "metadata": {},
   "source": [
    "Modkit filter for score =>20\n",
    "\n",
    "pysamstats results for both RNA002 and RNA004 filtered for ref T (c, forward) or A (G, reverse) and at least on C or G, 20 reads at least"
   ]
  },
  {
   "cell_type": "code",
   "execution_count": 16,
   "id": "38c234a7-dcb7-47c2-ac32-607f16286f37",
   "metadata": {},
   "outputs": [],
   "source": [
    "df = pd.read_csv('/work/Genometechlab/neda/dorado_0.8.1/stuart_07_27_23_RNA004_GM12878_polyA_RNA.dorado_0.8.1_sup.moves.psi.GRCh38.modkit_score_20.tsv', sep='\\t')\n",
    "filtered_df = df[(df['fraction_modified'] >= 20.0)]\n",
    "\n",
    "filtered_df.to_csv('/work/Genometechlab/neda/dorado_0.8.1/stuart_07_27_23_RNA004_GM12878_polyA_RNA.dorado_0.8.1_sup.moves.psi.GRCh38.modkit_score_20_fraction_mod_20.tsv', sep='\\t', index=False)"
   ]
  },
  {
   "cell_type": "markdown",
   "id": "d7a9976f-d7bf-462a-98d1-1d40a0009007",
   "metadata": {},
   "source": [
    "## Venn with excluding variants"
   ]
  },
  {
   "cell_type": "code",
   "execution_count": 20,
   "id": "3f24cb2a-012e-4c8c-9d7c-01668504c79f",
   "metadata": {},
   "outputs": [
    {
     "name": "stdout",
     "output_type": "stream",
     "text": [
      "Number of positions in VCF: 5773355\n",
      "Excluding 104 positions from /work/Genometechlab/neda/dorado_0.8.1/stuart_07_27_23_RNA004_GM12878_polyA_RNA.dorado_0.8.1_sup.moves.psi.GRCh38.modkit_score_20_fraction_mod_20.tsv\n",
      "Excluding 6468 positions from /work/Genometechlab/neda/RNA002_table_T2C_A2G_0.20.csv\n",
      "Excluding 7266 positions from /work/Genometechlab/neda/RNA008_table_T2C_A2G_0.20.csv\n"
     ]
    }
   ],
   "source": [
    "def extract_positions_from_vcf(vcf_file):\n",
    "    positions = set()\n",
    "    vcf = pysam.VariantFile(vcf_file)\n",
    "    for record in vcf.fetch():\n",
    "        positions.add((record.chrom, record.pos))\n",
    "    return positions\n",
    "\n",
    "vcf_file = \"/work/Genometechlab/neda/clair/RNA004_sup_vcf/merge_output.vcf.gz\"\n",
    "modkit_file = '/work/Genometechlab/neda/dorado_0.8.1/stuart_07_27_23_RNA004_GM12878_polyA_RNA.dorado_0.8.1_sup.moves.psi.GRCh38.modkit_score_20_fraction_mod_20.tsv'\n",
    "rna002_file = \"/work/Genometechlab/neda/RNA002_table_T2C_A2G_0.20.csv\"\n",
    "rna004_file = \"/work/Genometechlab/neda/RNA008_table_T2C_A2G_0.20.csv\"\n",
    "\n",
    "vcf_positions = extract_positions_from_vcf(vcf_file)\n",
    "print(f\"Number of positions in VCF: {len(vcf_positions)}\")\n",
    "\n",
    "def exclude_vcf_positions(csv_file, output_file, position_column=\"pos\"):\n",
    "    df = pd.read_csv(csv_file, sep=\"\\t\")\n",
    "    df.columns = df.columns.str.strip()\n",
    "    csv_positions = set(zip(df['chrom'], df[position_column]))\n",
    "\n",
    "    matching_positions = csv_positions.intersection(vcf_positions)\n",
    "    print(f\"Excluding {len(matching_positions)} positions from {csv_file}\")\n",
    "\n",
    "    cleaned_df = df[~df[['chrom', position_column]].apply(tuple, axis=1).isin(matching_positions)]\n",
    "    cleaned_df.to_csv(output_file, sep=\"\\t\", index=False)\n",
    "    \n",
    "    return cleaned_df\n",
    "\n",
    "modkit_filtered_file = '/work/Genometechlab/neda/dorado_0.8.1/stuart_07_27_23_RNA004_GM12878_polyA_RNA.dorado_0.8.1_sup.moves.psi.GRCh38.modkit_score_20_fraction_mod_20_vcf_filtered.tsv'\n",
    "rna002_filtered_file = \"/work/Genometechlab/neda/venn/RNA002_table_T2C_A2G_0.20_vcf_filtered.tsv\"\n",
    "rna004_filtered_file = \"/work/Genometechlab/neda/venn/RNA008_table_T2C_A2G_0.20_vcf_filtered.tsv\"\n",
    "\n",
    "modkit_filtered = exclude_vcf_positions(modkit_file, modkit_filtered_file, position_column=\"end_position\")\n",
    "rna002_filtered = exclude_vcf_positions(rna002_file, rna002_filtered_file, position_column=\"pos\")\n",
    "rna004_filtered = exclude_vcf_positions(rna004_file, rna004_filtered_file, position_column=\"pos\") "
   ]
  },
  {
   "cell_type": "code",
   "execution_count": 21,
   "id": "523fec3a-6d5c-4b2d-8bf2-ff4c401e36a0",
   "metadata": {},
   "outputs": [],
   "source": [
    "modkit_filtered_file = '/work/Genometechlab/neda/dorado_0.8.1/stuart_07_27_23_RNA004_GM12878_polyA_RNA.dorado_0.8.1_sup.moves.psi.GRCh38.modkit_score_20_fraction_mod_20_vcf_filtered.tsv'\n",
    "rna002_filtered_file = \"/work/Genometechlab/neda/venn/RNA002_table_T2C_A2G_0.20_vcf_filtered.tsv\"\n",
    "rna004_filtered_file = \"/work/Genometechlab/neda/venn/RNA008_table_T2C_A2G_0.20_vcf_filtered.tsv\"\n",
    "\n",
    "modkit_filtered = pd.read_csv(modkit_filtered_file , sep= \"\\t\")\n",
    "rna002_filtered = pd.read_csv(rna002_filtered_file , sep= \"\\t\")\n",
    "rna004_filtered = pd.read_csv(rna004_filtered_file , sep= \"\\t\")"
   ]
  },
  {
   "cell_type": "code",
   "execution_count": 22,
   "id": "01d62e91-a3a1-4311-ab84-fbc983d6ca73",
   "metadata": {},
   "outputs": [
    {
     "name": "stdout",
     "output_type": "stream",
     "text": [
      "Total positions in RNA002: 42944\n",
      "Total positions in RNA004: 14764\n",
      "Total positions in Modkit: 134545\n",
      "Positions in all three conditions: 124\n",
      "Positions in RNA002 and RNA004: 1210\n",
      "Positions in RNA002 and Modkit: 5120\n",
      "Positions in RNA004 and Modkit: 379\n"
     ]
    }
   ],
   "source": [
    "modkit_positions = set(zip(modkit_filtered['chrom'], modkit_filtered['end_position'])) \n",
    "rna002_positions = set(zip(rna002_filtered['chrom'], rna002_filtered['pos']))\n",
    "rna004_positions = set(zip(rna004_filtered['chrom'], rna004_filtered['pos']))\n",
    "\n",
    "overlap_all = modkit_positions & rna002_positions & rna004_positions\n",
    "overlap_modkit_rna002 = modkit_positions & rna002_positions\n",
    "overlap_modkit_rna004 = modkit_positions & rna004_positions\n",
    "overlap_rna002_rna004 = rna002_positions & rna004_positions\n",
    "\n",
    "print(f\"Total positions in RNA002: {len(rna002_positions)}\")\n",
    "print(f\"Total positions in RNA004: {len(rna004_positions)}\")\n",
    "print(f\"Total positions in Modkit: {len(modkit_positions)}\")\n",
    "print(f\"Positions in all three conditions: {len(overlap_all)}\")\n",
    "print(f\"Positions in RNA002 and RNA004: {len(overlap_rna002_rna004)}\")\n",
    "print(f\"Positions in RNA002 and Modkit: {len(overlap_modkit_rna002)}\")\n",
    "print(f\"Positions in RNA004 and Modkit: {len(overlap_modkit_rna004)}\")"
   ]
  },
  {
   "cell_type": "code",
   "execution_count": 24,
   "id": "4d6b7053-1f18-4c3f-a130-c6cb7d12393b",
   "metadata": {},
   "outputs": [
    {
     "data": {
      "image/png": "[encoded data removed]",
      "text/plain": [
       "<Figure size 720x576 with 1 Axes>"
      ]
     },
     "metadata": {},
     "output_type": "display_data"
    }
   ],
   "source": [
    "# filtered variant (20 reads, 20% U-to-C and psi)\n",
    "\n",
    "plt.figure(figsize=(10, 8))\n",
    "venn = venn3([rna002_positions, rna004_positions, modkit_positions],('RNA002 U-to-C Mismatch', 'RNA004 U-to-C mismatch', 'Dorado Psi'))\n",
    "\n",
    "for patch, color in zip(venn.patches, ['skyblue', 'lightgreen', 'salmon', 'purple', 'gold', 'orange', 'gray']):\n",
    "    if patch:\n",
    "        patch.set_facecolor(color)\n",
    "        patch.set_alpha(0.7)\n",
    "\n",
    "plt.text(-0.6, 0.6, f\"Total: {len(rna002_positions)}\", fontsize=12, color='blue', ha='center')\n",
    "plt.text(0.6, 0.5, f\"Total: {len(rna004_positions)}\", fontsize=12, color='green', ha='center')\n",
    "plt.text(0.0, -0.85, f\"Total: {len(modkit_positions)}\", fontsize=12, color='purple', ha='center')\n",
    "\n",
    "plt.title('Venn Diagram of Overlapping Positions', fontsize=16)\n",
    "plt.show()"
   ]
  }
 ],
 "metadata": {
  "kernelspec": {
   "display_name": "Python 3",
   "language": "python",
   "name": "python3"
  },
  "language_info": {
   "codemirror_mode": {
    "name": "ipython",
    "version": 3
   },
   "file_extension": ".py",
   "mimetype": "text/x-python",
   "name": "python",
   "nbconvert_exporter": "python",
   "pygments_lexer": "ipython3",
   "version": "3.8.8"
  }
 },
 "nbformat": 4,
 "nbformat_minor": 5
}
