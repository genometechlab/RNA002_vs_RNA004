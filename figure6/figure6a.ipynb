{
 "cells": [
  {
   "cell_type": "code",
   "execution_count": null,
   "id": "894c9f86-1422-4a56-995f-d9c48fd5620d",
   "metadata": {},
   "outputs": [],
   "source": []
  },
  {
   "cell_type": "code",
   "execution_count": null,
   "id": "d9aa6175-a28c-42a2-8570-ede8aab86655",
   "metadata": {},
   "outputs": [],
   "source": []
  }
 ],
 "metadata": {
  "kernelspec": {
   "display_name": "Python 3 (ipykernel)",
   "language": "python",
   "name": "python3"
  },
  "language_info": {
   "name": ""
  }
 },
 "nbformat": 4,
 "nbformat_minor": 5
}
