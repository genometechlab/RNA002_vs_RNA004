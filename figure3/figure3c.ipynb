{
 "cells": [
  {
   "cell_type": "markdown",
   "id": "7bf5e8f4-64c4-46fd-a900-8eed2c34e99c",
   "metadata": {},
   "source": [
    "# Figure 2e. Notebook"
   ]
  },
  {
   "cell_type": "markdown",
   "id": "ceaf7390-01f8-42e4-89fe-deffb088fcb3",
   "metadata": {},
   "source": [
    "## Imports"
   ]
  },
  {
   "cell_type": "code",
   "execution_count": 1,
   "id": "2a72ffa1-240f-4edd-8cf9-77a2b002995e",
   "metadata": {},
   "outputs": [
    {
     "name": "stdout",
     "output_type": "stream",
     "text": [
      "Loaded 7 Helvetica fonts\n"
     ]
    }
   ],
   "source": [
    "import pandas as pd\n",
    "import matplotlib.pyplot as plt\n",
    "import matplotlib.ticker as ticker\n",
    "import seaborn as sns\n",
    "import numpy as np\n",
    "import matplotlib\n",
    "from matplotlib.colors import LogNorm\n",
    "\n",
    "# Import Custom GTL plotting scheme\n",
    "from genometechlab_plotting import setup_style\n",
    "setup_style('inline')"
   ]
  },
  {
   "cell_type": "markdown",
   "id": "5918cfd1-e70b-4616-a055-af21f06a98bf",
   "metadata": {},
   "source": [
    "## Read Data"
   ]
  },
  {
   "cell_type": "code",
   "execution_count": 2,
   "id": "66f77fb6-60a3-44fc-add4-f51f42497b3a",
   "metadata": {},
   "outputs": [],
   "source": [
    "# Define Filepaths\n",
    "dorado\n",
    "\n",
    "# Read in files and rename headers\n",
    "def load_df(path, m6anet = False):\n",
    "    if not m6anet:\n",
    "        df = pd.read_csv(path, sep = '\\t', header = None)\n",
    "        df.rename(\n",
    "            columns={\n",
    "                0: 'Chromosome',\n",
    "                1: 'Start',\n",
    "                2: 'End',\n",
    "                3: 'Call',\n",
    "                4: 'Score',\n",
    "                5: 'Strand',\n",
    "                6: 'Start_1',\n",
    "                7: 'End_1',\n",
    "                8: 'RBG',\n",
    "                9: 'N_valid_cov',\n",
    "                10: 'Mod_Percent',\n",
    "                11: 'N_mod',\n",
    "                12: 'N_canon',\n",
    "                13: 'N_other_mod',\n",
    "                14: 'N_delete',\n",
    "                15: 'N_fail',\n",
    "                16: 'N_diff',\n",
    "                17: 'N_no_call',\n",
    "                18: 'Adjusted_Mod_Proportion'\n",
    "            },\n",
    "            inplace = True\n",
    "        )\n",
    "    else:\n",
    "        df = pd.read_csv(path, sep = '\\t')\n",
    "\n",
    "    return df\n",
    "\n",
    "rna002_m6anet = load_df(rna002_m6anet_path, m6anet = True)\n",
    "rna004_m6anet = load_df(rna004_m6anet_path, m6anet = True)\n"
   ]
  }
 ],
 "metadata": {
  "kernelspec": {
   "display_name": "Python 3 (ipykernel)",
   "language": "python",
   "name": "python3"
  },
  "language_info": {
   "codemirror_mode": {
    "name": "ipython",
    "version": 3
   },
   "file_extension": ".py",
   "mimetype": "text/x-python",
   "name": "python",
   "nbconvert_exporter": "python",
   "pygments_lexer": "ipython3",
   "version": "3.10.14"
  }
 },
 "nbformat": 4,
 "nbformat_minor": 5
}
